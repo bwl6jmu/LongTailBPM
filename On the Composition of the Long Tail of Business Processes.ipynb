{
 "cells": [
  {
   "cell_type": "code",
   "execution_count": 23,
   "metadata": {},
   "outputs": [],
   "source": [
    "!sudo apt install graphviz graphviz-dev\n",
    "!pip install pygraphviz pm4py"
   ]
  },
  {
   "cell_type": "code",
   "execution_count": 2,
   "metadata": {},
   "outputs": [],
   "source": [
    "import pandas as pd\n",
    "import numpy as np\n",
    "from matplotlib import pyplot as plt\n",
    "from pm4py.objects.log.importer.xes import importer as xes_importer\n",
    "from pm4py.objects.conversion.log import converter\n",
    "from sklearn.feature_extraction.text import CountVectorizer\n",
    "from scipy.cluster import hierarchy\n",
    "from sklearn.metrics import silhouette_score, davies_bouldin_score, calinski_harabasz_score\n",
    "from joblib import Parallel, delayed\n",
    "from scipy.cluster.hierarchy import linkage, fcluster\n",
    "from dunn import *\n",
    "from scipy.spatial.distance import pdist\n",
    "from scipy.spatial.distance import squareform\n",
    "from pm4py.visualization.petrinet import visualizer as pn_visualizer\n",
    "from pm4py.algo.discovery.heuristics import algorithm as heuristics_miner\n",
    "from pm4py.visualization.heuristics_net import visualizer as hn_visualizer\n",
    "from pm4py.objects.conversion.dfg import converter as dfg_mining\n",
    "import copy\n",
    "import seaborn as sns\n",
    "from sklearn.preprocessing import MinMaxScaler\n",
    "import pickle\n",
    "from math import pi\n",
    "import os\n",
    "import networkx as nx\n",
    "import pygraphviz as pgv\n",
    "from matplotlib import rc\n",
    "from urllib.request import urlretrieve\n",
    "import gzip\n",
    "import shutil\n",
    "from IPython.display import Image\n",
    "from plotfunctions import *\n",
    "\n",
    "\n",
    "rc('font',**{'family':'serif','serif':['Times New Roman']})\n",
    "rc('text', usetex=False)\n",
    "\n",
    "def save_obj(obj, name):\n",
    "    with open(name + '.pkl', 'wb') as f:\n",
    "        pickle.dump(obj, f, pickle.HIGHEST_PROTOCOL)\n",
    "\n",
    "\n",
    "def load_obj(name):\n",
    "    with open(name + '.pkl', 'rb') as f:\n",
    "        return pickle.load(f)\n",
    "    \n",
    "def gunzip(file):    \n",
    "    with gzip.open(file + '.gz', 'rb') as f_in:\n",
    "        with open(file, 'wb') as f_out:\n",
    "            shutil.copyfileobj(f_in, f_out)"
   ]
  },
  {
   "cell_type": "markdown",
   "metadata": {},
   "source": [
    "## Load Data"
   ]
  },
  {
   "cell_type": "markdown",
   "metadata": {},
   "source": [
    "### Downlaod and Extract Logs"
   ]
  },
  {
   "cell_type": "code",
   "execution_count": 3,
   "metadata": {},
   "outputs": [],
   "source": [
    "urlretrieve(\"https://data.4tu.nl/ndownloader/files/24060575\", \"BPI_2014.csv\")\n",
    "\n",
    "urlretrieve(\"https://data.4tu.nl/ndownloader/files/24027287\", \"BPI_2012.xes.gz\")\n",
    "gunzip(\"BPI_2012.xes\")\n",
    "\n",
    "urlretrieve(\"https://data.4tu.nl/ndownloader/files/24063818\", \"BPI2015_1.xes\")\n",
    "urlretrieve(\"https://data.4tu.nl/ndownloader/files/24044639\", \"BPI2015_2.xes\")\n",
    "urlretrieve(\"https://data.4tu.nl/ndownloader/files/24076154\", \"BPI2015_3.xes\")\n",
    "urlretrieve(\"https://data.4tu.nl/ndownloader/files/24045332\", \"BPI2015_4.xes\")\n",
    "urlretrieve(\"https://data.4tu.nl/ndownloader/files/24069341\", \"BPI2015_5.xes\")\n",
    "\n",
    "urlretrieve(\"https://data.4tu.nl/ndownloader/files/24044117\", \"BPI_2017.xes.gz\")\n",
    "gunzip(\"BPI_2017.xes\")"
   ]
  },
  {
   "cell_type": "markdown",
   "metadata": {},
   "source": [
    "### Import Logs"
   ]
  },
  {
   "cell_type": "code",
   "execution_count": 4,
   "metadata": {},
   "outputs": [],
   "source": [
    "dfs = []"
   ]
  },
  {
   "cell_type": "code",
   "execution_count": 5,
   "metadata": {},
   "outputs": [],
   "source": [
    "# BPI Challenge 2014 is only available as CSV. Column Names have to be standardized to work with the rest of the code. Incomplete Traces were removed\n",
    "df = pd.read_csv(\"BPI_2014.csv\", sep=\";\")\n",
    "df = df.loc[df[\"Incident ID\"].isin(df.loc[df[\"IncidentActivity_Type\"] == \"Open\", \"Incident ID\"].tolist()) & df[\"Incident ID\"].isin(df.loc[df[\"IncidentActivity_Type\"] == \"Closed\", \"Incident ID\"].tolist())]\n",
    "df.columns = [\"case:concept:name\", \"time:timestamp\", \"actnumber\", \"concept:name\", \"org:resource\", \"kmnumber\", \"intid\"]\n",
    "df[\"time:timestamp\"] = pd.to_datetime(df[\"time:timestamp\"], format=\"%d-%m-%Y %H:%M:%S\")\n",
    "df = df.sort_values([\"case:concept:name\", \"time:timestamp\"])\n",
    "dfs.append(df)"
   ]
  },
  {
   "cell_type": "code",
   "execution_count": 6,
   "metadata": {},
   "outputs": [
    {
     "data": {
      "application/vnd.jupyter.widget-view+json": {
       "model_id": "182cf985ec964afdacf7584449886bac",
       "version_major": 2,
       "version_minor": 0
      },
      "text/plain": [
       "HBox(children=(HTML(value='parsing log, completed traces :: '), FloatProgress(value=0.0, max=13087.0), HTML(va…"
      ]
     },
     "metadata": {},
     "output_type": "display_data"
    },
    {
     "name": "stdout",
     "output_type": "stream",
     "text": [
      "\n"
     ]
    }
   ],
   "source": [
    "# BPI CHallenge 2012\n",
    "log = xes_importer.apply('BPI_2012.xes')\n",
    "df = converter.apply(log, variant=converter.Variants.TO_DATA_FRAME)\n",
    "dfs.append(df)"
   ]
  },
  {
   "cell_type": "code",
   "execution_count": 7,
   "metadata": {},
   "outputs": [
    {
     "data": {
      "application/vnd.jupyter.widget-view+json": {
       "model_id": "c63623e0860542cfa78dcddfa575ceac",
       "version_major": 2,
       "version_minor": 0
      },
      "text/plain": [
       "HBox(children=(HTML(value='parsing log, completed traces :: '), FloatProgress(value=0.0, max=31509.0), HTML(va…"
      ]
     },
     "metadata": {},
     "output_type": "display_data"
    },
    {
     "name": "stdout",
     "output_type": "stream",
     "text": [
      "\n"
     ]
    }
   ],
   "source": [
    "# BPI CHallenge 2017\n",
    "log = xes_importer.apply('BPI_2017.xes')\n",
    "df = converter.apply(log, variant=converter.Variants.TO_DATA_FRAME)\n",
    "dfs.append(df)"
   ]
  },
  {
   "cell_type": "code",
   "execution_count": 8,
   "metadata": {},
   "outputs": [
    {
     "data": {
      "application/vnd.jupyter.widget-view+json": {
       "model_id": "972e7102b31e43649a5322f586ba276c",
       "version_major": 2,
       "version_minor": 0
      },
      "text/plain": [
       "HBox(children=(HTML(value='parsing log, completed traces :: '), FloatProgress(value=0.0, max=1199.0), HTML(val…"
      ]
     },
     "metadata": {},
     "output_type": "display_data"
    },
    {
     "name": "stdout",
     "output_type": "stream",
     "text": [
      "\n"
     ]
    },
    {
     "data": {
      "application/vnd.jupyter.widget-view+json": {
       "model_id": "e394542a277949cabe05040c837870a8",
       "version_major": 2,
       "version_minor": 0
      },
      "text/plain": [
       "HBox(children=(HTML(value='parsing log, completed traces :: '), FloatProgress(value=0.0, max=832.0), HTML(valu…"
      ]
     },
     "metadata": {},
     "output_type": "display_data"
    },
    {
     "name": "stdout",
     "output_type": "stream",
     "text": [
      "\n"
     ]
    },
    {
     "data": {
      "application/vnd.jupyter.widget-view+json": {
       "model_id": "71fe477d59dc43e2831807268a9182cd",
       "version_major": 2,
       "version_minor": 0
      },
      "text/plain": [
       "HBox(children=(HTML(value='parsing log, completed traces :: '), FloatProgress(value=0.0, max=1409.0), HTML(val…"
      ]
     },
     "metadata": {},
     "output_type": "display_data"
    },
    {
     "name": "stdout",
     "output_type": "stream",
     "text": [
      "\n"
     ]
    },
    {
     "data": {
      "application/vnd.jupyter.widget-view+json": {
       "model_id": "f4a3aace1ac146a68b0f4ffea3ca79dc",
       "version_major": 2,
       "version_minor": 0
      },
      "text/plain": [
       "HBox(children=(HTML(value='parsing log, completed traces :: '), FloatProgress(value=0.0, max=1053.0), HTML(val…"
      ]
     },
     "metadata": {},
     "output_type": "display_data"
    },
    {
     "name": "stdout",
     "output_type": "stream",
     "text": [
      "\n"
     ]
    },
    {
     "data": {
      "application/vnd.jupyter.widget-view+json": {
       "model_id": "66706c72400349bc82b075f09c84b162",
       "version_major": 2,
       "version_minor": 0
      },
      "text/plain": [
       "HBox(children=(HTML(value='parsing log, completed traces :: '), FloatProgress(value=0.0, max=1156.0), HTML(val…"
      ]
     },
     "metadata": {},
     "output_type": "display_data"
    },
    {
     "name": "stdout",
     "output_type": "stream",
     "text": [
      "\n"
     ]
    }
   ],
   "source": [
    "# BPI Challenge 2015 consists of 5 logs. We append the logs to get one large log\n",
    "df = pd.DataFrame()\n",
    "for i in range(1,6):\n",
    "    log = xes_importer.apply('BPI2015_'+ str(i) +'.xes')\n",
    "    dd = converter.apply(log, variant=converter.Variants.TO_DATA_FRAME)\n",
    "    df = df.append(dd)\n",
    "dfs.append(df)"
   ]
  },
  {
   "cell_type": "markdown",
   "metadata": {},
   "source": [
    "## Ngram Vectorizing"
   ]
  },
  {
   "cell_type": "code",
   "execution_count": 29,
   "metadata": {},
   "outputs": [],
   "source": [
    "ngramlist = []\n",
    "tracelist = []\n",
    "for df in dfs:\n",
    "    traces = df.groupby(\"case:concept:name\")[\"concept:name\"].agg(lambda col: \",\".join(col.tolist())).reset_index()\n",
    "    tracelist.append(traces)\n",
    "    vectorizer = CountVectorizer(ngram_range=(3, 3), token_pattern='(?u)[\\w \\(\\)]+', analyzer='word')\n",
    "    ngrams = vectorizer.fit_transform(traces[\"concept:name\"].tolist())\n",
    "    ngramlist.append(ngrams)"
   ]
  },
  {
   "cell_type": "markdown",
   "metadata": {},
   "source": [
    "## Clustering"
   ]
  },
  {
   "cell_type": "code",
   "execution_count": 30,
   "metadata": {},
   "outputs": [],
   "source": [
    "clusterlist = []\n",
    "for ngrams in ngramlist:    \n",
    "    clusters  = hierarchy.ward(ngrams.toarray())\n",
    "    clusterlist.append(clusters)"
   ]
  },
  {
   "cell_type": "code",
   "execution_count": 31,
   "metadata": {},
   "outputs": [
    {
     "data": {
      "image/png": "[encoded data removed]",
      "text/plain": [
       "<Figure size 864x216 with 4 Axes>"
      ]
     },
     "metadata": {},
     "output_type": "display_data"
    }
   ],
   "source": [
    "fig, axs = plt.subplots(1,4, figsize=(12,3))\n",
    "for clusters, ax in zip(clusterlist, axs):\n",
    "    hierarchy.dendrogram(clusters, no_labels=True, ax=ax, truncate_mode=\"level\", p=15, color_threshold=0, above_threshold_color='k')\n",
    "    \n",
    "axs[0].set_title(\"IT Service Management Log\", fontname=\"Times New Roman\")\n",
    "axs[1].set_title(\"Loan Application Log 2012\", fontname=\"Times New Roman\")\n",
    "axs[2].set_title(\"Loan Application Log 2017\", fontname=\"Times New Roman\")\n",
    "axs[3].set_title(\"Building Permit Application Log\", fontname=\"Times New Roman\")\n",
    "    \n",
    "plt.tight_layout()\n",
    "plt.savefig(\"Figure_7.svg\")"
   ]
  },
  {
   "cell_type": "markdown",
   "metadata": {},
   "source": [
    "## Determine Number of Clusters <span style=\"color:red\">(!Long Runtime!)</span>"
   ]
  },
  {
   "cell_type": "markdown",
   "metadata": {},
   "source": [
    "This section can be skipped, the number of clusters is hard-coded in the next section"
   ]
  },
  {
   "cell_type": "markdown",
   "metadata": {},
   "source": [
    "### Elbow Criterion"
   ]
  },
  {
   "cell_type": "code",
   "execution_count": null,
   "metadata": {},
   "outputs": [],
   "source": [
    "fig, axs = plt.subplots(1,4, figsize=(12,3))\n",
    "for clusters, ax in zip(clusterlist, axs):\n",
    "    last = clusters[-1200000:, 2]\n",
    "    last_rev = last[::-1]\n",
    "    idxs = np.arange(1, len(last) + 1)\n",
    "    ax.plot(idxs, last_rev)"
   ]
  },
  {
   "cell_type": "markdown",
   "metadata": {},
   "source": [
    "### Silhouette Score"
   ]
  },
  {
   "cell_type": "code",
   "execution_count": null,
   "metadata": {},
   "outputs": [],
   "source": [
    "fig, axs = plt.subplots(1,4, figsize=(12,3))\n",
    "for clusters, ax in zip(clusterlist, axs):\n",
    "    silhouette = Parallel(n_jobs=-1)(delayed(silhouette_score)(ngrams.toarray(), fcluster(clusters, i, criterion='maxclust')) for i in range(2,100))\n",
    "    print(np.argmax(silhouette)+2)\n",
    "    plt.plot(silhouette)"
   ]
  },
  {
   "cell_type": "markdown",
   "metadata": {},
   "source": [
    "### Davies-Bouldin Index"
   ]
  },
  {
   "cell_type": "code",
   "execution_count": null,
   "metadata": {},
   "outputs": [],
   "source": [
    "fig, axs = plt.subplots(1,4, figsize=(12,3))\n",
    "for clusters, ax in zip(clusterlist, axs):\n",
    "    db_index = Parallel(n_jobs=-1)(delayed(davies_bouldin_score)(ngrams.toarray(), fcluster(clusters, i, criterion='maxclust')) for i in range(2,100))\n",
    "    print(np.argmin(db_index)+2)\n",
    "    ax.plot(db_index)"
   ]
  },
  {
   "cell_type": "markdown",
   "metadata": {},
   "source": [
    "### Calinski-Harabasz Index"
   ]
  },
  {
   "cell_type": "code",
   "execution_count": null,
   "metadata": {},
   "outputs": [],
   "source": [
    "fig, axs = plt.subplots(1,4, figsize=(12,3))\n",
    "for clusters, ax in zip(clusterlist, axs):\n",
    "    ch_score = Parallel(n_jobs=-1)(delayed(calinski_harabasz_score)(ngrams.toarray(), fcluster(clusters, i, criterion='maxclust')) for i in range(2,100))\n",
    "    plt.plot(ch_score)"
   ]
  },
  {
   "cell_type": "markdown",
   "metadata": {},
   "source": [
    "## Dataset Description"
   ]
  },
  {
   "cell_type": "code",
   "execution_count": 9,
   "metadata": {},
   "outputs": [
    {
     "data": {
      "image/png": "[encoded data removed]",
      "text/plain": [
       "<Figure size 720x360 with 3 Axes>"
      ]
     },
     "metadata": {
      "needs_background": "light"
     },
     "output_type": "display_data"
    }
   ],
   "source": [
    "df = dfs[0] # IT Service Management Log\n",
    "\n",
    "act = df.groupby(\"concept:name\").count()[\"case:concept:name\"].tolist()\n",
    "df.sort_values([\"case:concept:name\", \"time:timestamp\"])\n",
    "df[\"time:next\"] = df[\"time:timestamp\"].tolist()[1:] + [pd.to_datetime(\"2000-01-01\")]\n",
    "df[\"case:next\"] = df[\"case:concept:name\"].tolist()[1:] + [0]\n",
    "df[\"time\"] =  (pd.to_datetime(df[\"time:next\"], utc=True) - pd.to_datetime(df[\"time:timestamp\"], utc=True)).apply(lambda x: x.total_seconds())\n",
    "actdur = (df.loc[(df[\"time\"] > 0)].groupby(\"concept:name\").mean()[\"time\"] / 3600).tolist()\n",
    "resources = df.groupby(\"org:resource\").count()[\"concept:name\"].tolist()\n",
    "\n",
    "fig, axs = plt.subplots(1,3, figsize=(10,5))\n",
    "axs[0].bar([i for i,j in enumerate(act)], sorted(act, reverse=True))\n",
    "axs[1].bar([i for i,j in enumerate(actdur)], sorted(actdur, reverse=True))\n",
    "axs[2].bar([i for i,j in enumerate(resources)], sorted(resources, reverse=True))\n",
    "\n",
    "\n",
    "axs[0].set_xlabel(\"Activities\", fontname=\"Times New Roman\")\n",
    "axs[1].set_xlabel(\"Activities\", fontname=\"Times New Roman\")\n",
    "axs[2].set_xlabel(\"Resources\", fontname=\"Times New Roman\")\n",
    "\n",
    "axs[0].set_ylabel(\"Number of Executions\", fontname=\"Times New Roman\")\n",
    "axs[1].set_ylabel(\"Average Duration in Hours\", fontname=\"Times New Roman\")\n",
    "axs[2].set_ylabel(\"Number of Involvements\", fontname=\"Times New Roman\")\n",
    "\n",
    "fig.tight_layout()\n",
    "plt.savefig(\"figure_4.svg\")"
   ]
  },
  {
   "cell_type": "code",
   "execution_count": 49,
   "metadata": {},
   "outputs": [
    {
     "name": "stdout",
     "output_type": "stream",
     "text": [
      "30.91416306805164\n",
      "45687\n",
      "432.6632563611111\n",
      "148404\n"
     ]
    },
    {
     "data": {
      "image/png": "[encoded data removed]",
      "text/plain": [
       "<Figure size 720x360 with 6 Axes>"
      ]
     },
     "metadata": {},
     "output_type": "display_data"
    }
   ],
   "source": [
    "df = dfs[1] # Loan Application Log 2012\n",
    "\n",
    "act = df.groupby(\"concept:name\").count()[\"case:concept:name\"].tolist()\n",
    "df.sort_values([\"case:concept:name\", \"time:timestamp\"])\n",
    "df[\"time:next\"] = df[\"time:timestamp\"].tolist()[1:] + [pd.to_datetime(\"2000-01-01\")]\n",
    "df[\"case:next\"] = df[\"case:concept:name\"].tolist()[1:] + [0]\n",
    "df[\"time\"] =  (pd.to_datetime(df[\"time:next\"], utc=True) - pd.to_datetime(df[\"time:timestamp\"], utc=True)).apply(lambda x: x.total_seconds())\n",
    "actdur = (df.loc[df[\"time\"] > 0].groupby(\"concept:name\").mean()[\"time\"] / 3600).tolist()\n",
    "resources = df.groupby(\"org:resource\").count()[\"concept:name\"].tolist()\n",
    "\n",
    "print(max(actdur))\n",
    "print(max(resources))\n",
    "\n",
    "fig, axs = plt.subplots(1,3, figsize=(10,5))\n",
    "axs[0].bar([i-.25 for i,j in enumerate(act)], sorted(act, reverse=True), width=.5)\n",
    "axs[1].bar([i-.25 for i,j in enumerate(actdur)], sorted(actdur, reverse=True), width=.5)\n",
    "axs[2].bar([i-.25 for i,j in enumerate(resources)], sorted(resources, reverse=True), width=.5)\n",
    "\n",
    "df = dfs[2] # Loan Application Log 2017\n",
    "\n",
    "act = df.groupby(\"concept:name\").count()[\"case:concept:name\"].tolist()\n",
    "df.sort_values([\"case:concept:name\", \"time:timestamp\"])\n",
    "df[\"time:next\"] = df[\"time:timestamp\"].tolist()[1:] + [pd.to_datetime(\"2000-01-01\")]\n",
    "df[\"case:next\"] = df[\"case:concept:name\"].tolist()[1:] + [0]\n",
    "df[\"time\"] =  (pd.to_datetime(df[\"time:next\"], utc=True) - pd.to_datetime(df[\"time:timestamp\"], utc=True)).apply(lambda x: x.total_seconds())\n",
    "actdur = (df.loc[(df[\"time\"] > 0)].groupby(\"concept:name\").mean()[\"time\"] / 3600).tolist()\n",
    "resources = df.groupby(\"org:resource\").count()[\"concept:name\"].tolist()\n",
    "\n",
    "print(max(actdur))\n",
    "print(max(resources))\n",
    "\n",
    "axs[0].twinx().bar([i+.25 for i,j in enumerate(act)], sorted(act, reverse=True), width=.5, color=\"tab:orange\")\n",
    "axs[1].twinx().bar([i+.25 for i,j in enumerate(actdur)], sorted(actdur, reverse=True), width=.5, color=\"tab:orange\")\n",
    "axs[2].twinx().bar([i+.25 for i,j in enumerate(resources)], sorted(resources, reverse=True), width=.5, color=\"tab:orange\")\n",
    "\n",
    "axs[0].set_xlabel(\"Activities\", fontname=\"Times New Roman\")\n",
    "axs[1].set_xlabel(\"Activities\", fontname=\"Times New Roman\")\n",
    "axs[2].set_xlabel(\"Resources\", fontname=\"Times New Roman\")\n",
    "\n",
    "axs[0].set_ylabel(\"Number of Executions\", fontname=\"Times New Roman\")\n",
    "axs[1].set_ylabel(\"Average Duration in Hours\", fontname=\"Times New Roman\")\n",
    "axs[2].set_ylabel(\"Number of Involvements\", fontname=\"Times New Roman\")\n",
    "\n",
    "#fig.tight_layout()\n",
    "plt.savefig(\"figure_5.svg\")"
   ]
  },
  {
   "cell_type": "code",
   "execution_count": 48,
   "metadata": {},
   "outputs": [
    {
     "name": "stdout",
     "output_type": "stream",
     "text": [
      "5644\n",
      "5806.293055555556\n",
      "15748\n"
     ]
    },
    {
     "data": {
      "image/png": "[encoded data removed]",
      "text/plain": [
       "<Figure size 720x360 with 3 Axes>"
      ]
     },
     "metadata": {},
     "output_type": "display_data"
    }
   ],
   "source": [
    "df = dfs[3] # Building Permit Log\n",
    "\n",
    "act = df.groupby(\"concept:name\").count()[\"case:concept:name\"].tolist()\n",
    "df.sort_values([\"case:concept:name\", \"time:timestamp\"])\n",
    "df[\"time:next\"] = df[\"time:timestamp\"].tolist()[1:] + [pd.to_datetime(\"2000-01-01\")]\n",
    "df[\"case:next\"] = df[\"case:concept:name\"].tolist()[1:] + [0]\n",
    "df[\"time\"] =  (pd.to_datetime(df[\"time:next\"], utc=True) - pd.to_datetime(df[\"time:timestamp\"], utc=True)).apply(lambda x: x.total_seconds())\n",
    "actdur = (df.loc[(df[\"time\"] > 0)].groupby(\"concept:name\").mean()[\"time\"] / 3600).tolist()\n",
    "resources = df.groupby(\"org:resource\").count()[\"concept:name\"].tolist()\n",
    "\n",
    "\n",
    "print(max(act))\n",
    "print(max(actdur))\n",
    "print(max(resources))\n",
    "\n",
    "fig, axs = plt.subplots(1,3, figsize=(10,5))\n",
    "axs[0].bar([i for i,j in enumerate(act)], sorted(act, reverse=True))\n",
    "axs[1].bar([i for i,j in enumerate(actdur)], sorted(actdur, reverse=True))\n",
    "axs[2].bar([i for i,j in enumerate(resources)], sorted(resources, reverse=True))\n",
    "\n",
    "\n",
    "axs[0].set_xlabel(\"Activities\", fontname=\"Times New Roman\")\n",
    "axs[1].set_xlabel(\"Activities\", fontname=\"Times New Roman\")\n",
    "axs[2].set_xlabel(\"Resources\", fontname=\"Times New Roman\")\n",
    "\n",
    "axs[0].set_ylabel(\"Number of Executions\", fontname=\"Times New Roman\")\n",
    "axs[1].set_ylabel(\"Average Duration in Hours\", fontname=\"Times New Roman\")\n",
    "axs[2].set_ylabel(\"Number of Involvements\", fontname=\"Times New Roman\")\n",
    "\n",
    "#fig.tight_layout()\n",
    "plt.savefig(\"figure_6.svg\")"
   ]
  },
  {
   "cell_type": "markdown",
   "metadata": {},
   "source": [
    "## Calculate Scores"
   ]
  },
  {
   "cell_type": "code",
   "execution_count": 35,
   "metadata": {},
   "outputs": [],
   "source": [
    "scorelist = []\n",
    "nclusterlist = [150, 200, 200, 300]\n",
    "\n",
    "for df, traces, nclusters, clusters in zip(dfs, tracelist, nclusterlist, clusterlist):\n",
    "    df.sort_values([\"case:concept:name\", \"time:timestamp\"])\n",
    "    df[\"time:next\"] = df[\"time:timestamp\"].tolist()[1:] + [pd.to_datetime(\"2000-01-01\")]\n",
    "    df[\"case:next\"] = df[\"case:concept:name\"].tolist()[1:] + [0]\n",
    "    df[\"time\"] =  (pd.to_datetime(df[\"time:next\"], utc=True) - pd.to_datetime(df[\"time:timestamp\"], utc=True)).apply(lambda x: x.total_seconds())\n",
    "\n",
    "    labels = fcluster(clusters, nclusters, criterion='maxclust')\n",
    "    traces[\"cluster\"] = labels\n",
    "\n",
    "    clusterdict = {}\n",
    "    for i in range(1,nclusters+1):\n",
    "        clusterdict[i] = traces.loc[traces[\"cluster\"] == i][\"case:concept:name\"].tolist()\n",
    "\n",
    "    # execution Frequency\n",
    "    scores = []\n",
    "    for i in range(1,nclusters+1):\n",
    "        cases = clusterdict[i]\n",
    "        temp = df.loc[df[\"case:concept:name\"].isin(cases)]\n",
    "        score = temp[\"case:concept:name\"].nunique()\n",
    "        scores.append(score)\n",
    "    ef = scores\n",
    "\n",
    "    # stakeholder scores\n",
    "    stakeholer_scores = df.groupby(\"org:resource\").count()[\"concept:name\"].to_dict()\n",
    "    stakeholer_scores = {s:(1 / stakeholer_scores[s]) for s in stakeholer_scores}\n",
    "    df[\"sscore\"] = df[\"org:resource\"].replace(stakeholer_scores)\n",
    "    scores = []\n",
    "    for i in range(1,nclusters+1):\n",
    "        cases = clusterdict[i]\n",
    "        temp = df.loc[df[\"case:concept:name\"].isin(cases)]\n",
    "        score = np.sum(temp.groupby([\"case:concept:name\"]).sum()[\"sscore\"] / temp.shape[0])\n",
    "        scores.append(score)\n",
    "    ss = scores\n",
    "\n",
    "    #customer contacts\n",
    "    scores = []\n",
    "    for i in range(1,nclusters+1):\n",
    "        cases = clusterdict[i]\n",
    "        temp = df.loc[df[\"case:concept:name\"].isin(cases)]\n",
    "        if nclusters == 300:\n",
    "            score = temp.loc[(temp[\"activityNameEN\"].str.contains(\"send\"))].shape[0] / temp.shape[0]\n",
    "        else:\n",
    "            score = temp.loc[(temp[\"concept:name\"].str.contains(\"Sent\")) | (temp[\"concept:name\"].str.contains(\"SENT\")) | (temp[\"concept:name\"].str.contains(\"customer\"))].shape[0] / temp.shape[0]\n",
    "        #\n",
    "\n",
    "        scores.append(score)\n",
    "    cc = scores\n",
    "\n",
    "    # activity variance scores\n",
    "\n",
    "    scores = []\n",
    "    for i in range(1,nclusters+1):\n",
    "        cases = clusterdict[i]\n",
    "        temp = df.loc[df[\"case:concept:name\"].isin(cases) & (df[\"case:next\"] == df[\"case:concept:name\"]) & (df[\"time\"] > 1)]\n",
    "        score = temp[\"time\"].var()\n",
    "        scores.append(score)\n",
    "    av = scores\n",
    "\n",
    "    # process variance scores\n",
    "    scores = []\n",
    "    for i in range(1,nclusters+1):\n",
    "        cases = clusterdict[i]\n",
    "        temp = df.loc[df[\"case:concept:name\"].isin(cases)]\n",
    "        score = (pd.to_datetime(temp.groupby(\"case:concept:name\").last()[\"time:timestamp\"], utc=True) - pd.to_datetime(temp.groupby(\"case:concept:name\").first()[\"time:timestamp\"], utc=True)).apply(lambda x: x.total_seconds()).var()\n",
    "        scores.append(score)\n",
    "    pv = [s if str(s) != \"nan\" else 0 for s in scores ]\n",
    "\n",
    "    # redundancies \n",
    "\n",
    "    scores = []\n",
    "    for i in range(1,nclusters+1):\n",
    "        cases = clusterdict[i]\n",
    "        temp = traces.loc[traces[\"case:concept:name\"].isin(cases)][\"concept:name\"].tolist()\n",
    "\n",
    "        ngram_vectorizer = CountVectorizer(input = temp, ngram_range=(2,2), tokenizer=lambda x: x.split(','))\n",
    "        counts = ngram_vectorizer.fit_transform(temp)\n",
    "        #names = ngram_vectorizer.get_feature_names()\n",
    "\n",
    "        counts[counts == 1] = 0\n",
    "        trlen = [len(t.split(\",\")) for t in temp]\n",
    "        scores.append(np.sum(counts) / np.sum(trlen))\n",
    "\n",
    "    rs = scores\n",
    "\n",
    "    # shared activity contexts\n",
    "    ngram_vectorizer = CountVectorizer(input = traces[\"concept:name\"].tolist(), ngram_range=(3,3), tokenizer=lambda x: x.split(','))\n",
    "    counts = ngram_vectorizer.fit_transform(traces[\"concept:name\"].tolist())\n",
    "    names = ngram_vectorizer.get_feature_names()\n",
    "    activities = df[\"concept:name\"].unique().tolist()\n",
    "    contexts = []\n",
    "\n",
    "    actcount = {}\n",
    "    for activity in activities:\n",
    "        for name in names:\n",
    "            if \" \" + str(activity).lower() + \" \" in name:\n",
    "                if activity in actcount:\n",
    "                    actcount[activity] += 1\n",
    "                else:\n",
    "                    actcount[activity] = 1\n",
    "\n",
    "    actcount[\"A_Create Application\"] = 0\n",
    "    actcount[\"A_SUBMITTED\"] = 0\n",
    "    actcount[\"01_BB_680\"] = 0\n",
    "    actcount[\"14_VRIJ_060_2\"] = 0\n",
    "    actcount[\"01_BB_601\"] = 0\n",
    "    actcount[\"01_BB_650_2\"] = 0\n",
    "\n",
    "    df[\"actscores\"] = df[\"concept:name\"].replace(actcount)\n",
    "\n",
    "    scores = []\n",
    "    for i in range(1,nclusters+1):\n",
    "        cases = clusterdict[i]\n",
    "        temp = df.loc[df[\"case:concept:name\"].isin(cases)]\n",
    "        #print(temp[\"actscores\"])\n",
    "        score = (temp[\"actscores\"].sum() / temp.shape[0]) **-1 \n",
    "        scores.append(score)\n",
    "    sas = scores\n",
    "\n",
    "    # stakeholder count scores\n",
    "    scores = []\n",
    "    for i in range(1,nclusters+1):\n",
    "        cases = clusterdict[i]\n",
    "        temp = df.loc[df[\"case:concept:name\"].isin(cases)]\n",
    "        score = temp[\"org:resource\"].nunique() ** -1\n",
    "        scores.append(score)\n",
    "    sts = scores\n",
    "\n",
    "\n",
    "    # average process length\n",
    "    scores = []\n",
    "    for i in range(1,nclusters+1):\n",
    "        cases = clusterdict[i]\n",
    "        temp = df.loc[df[\"case:concept:name\"].isin(cases)]\n",
    "        score = temp.shape[0] / temp[\"case:concept:name\"].nunique()\n",
    "        scores.append(score)\n",
    "    pls = scores\n",
    "\n",
    "\n",
    "    scorelist.append(copy.deepcopy((ef, ss, cc, av, pv, rs, sas, sts, pls)))"
   ]
  },
  {
   "cell_type": "markdown",
   "metadata": {},
   "source": [
    "### Plot all Scores for each Log"
   ]
  },
  {
   "cell_type": "code",
   "execution_count": 47,
   "metadata": {},
   "outputs": [
    {
     "name": "stdout",
     "output_type": "stream",
     "text": [
      "Figure_8.svg\n",
      "Figure_9.svg\n",
      "Figure_10.svg\n"
     ]
    },
    {
     "data": {
      "text/plain": [
       "<Figure size 504x360 with 0 Axes>"
      ]
     },
     "metadata": {},
     "output_type": "display_data"
    },
    {
     "data": {
      "text/plain": [
       "<Figure size 504x360 with 0 Axes>"
      ]
     },
     "metadata": {},
     "output_type": "display_data"
    },
    {
     "data": {
      "text/plain": [
       "<Figure size 504x360 with 0 Axes>"
      ]
     },
     "metadata": {},
     "output_type": "display_data"
    },
    {
     "data": {
      "image/png": "[encoded data removed]",
      "text/plain": [
       "<Figure size 504x360 with 9 Axes>"
      ]
     },
     "metadata": {},
     "output_type": "display_data"
    }
   ],
   "source": [
    "fig, axs = plt.subplots(3,3, figsize=(7,5), sharex=True, sharey=True)\n",
    "i = 8\n",
    "j = 0\n",
    "xticks = [[0,75,150], [0,100,200],[0,100,200], [0,150,300]]\n",
    "for (ef, ss, cc, av, pv, rs, sas, sts, pls), xtick in zip(scorelist, xticks):\n",
    "    sns.set_style(\"white\")\n",
    "    scaler = MinMaxScaler()\n",
    "\n",
    "    axs[0, 0].set_title(\"Execution Frequency\", size=8, fontweight=\"bold\", fontname=\"Times New Roman\")\n",
    "    axs[0, 0].plot(sorted(scaler.fit_transform(np.array([[e] for e  in ef])), reverse=True))\n",
    "    axs[0 ,0].set_xticks(xtick)\n",
    "\n",
    "    axs[0, 1].set_title(\"Resource Utilization\", size=8, fontweight=\"bold\", fontname=\"Times New Roman\")\n",
    "    axs[0, 1].plot(sorted(scaler.fit_transform(np.array([[e] for e  in ss])), reverse=True))\n",
    "\n",
    "    axs[0, 2].set_title(\"Customer Contacts\", size=8, fontweight=\"bold\", fontname=\"Times New Roman\")\n",
    "    axs[0, 2].plot(sorted(scaler.fit_transform(np.array([[e] for e  in cc])), reverse=True))\n",
    "\n",
    "    axs[1, 0].set_title(\"Activity Duration Variance\", size=8, fontweight=\"bold\", fontname=\"Times New Roman\")\n",
    "    axs[1, 0].plot(sorted(scaler.fit_transform(np.array([[e] for e  in av])), reverse=True))\n",
    "\n",
    "    axs[1, 1].set_title(\"Execution Time Variance\", size=8, fontweight=\"bold\", fontname=\"Times New Roman\")\n",
    "    axs[1, 1].plot(sorted(scaler.fit_transform(np.array([[e] for e  in pv])), reverse=True))\n",
    "\n",
    "    axs[1, 2].set_title(\"Execution Redundancies\", size=8, fontweight=\"bold\", fontname=\"Times New Roman\")\n",
    "    axs[1, 2].plot(sorted(scaler.fit_transform(np.array([[e] for e  in rs])), reverse=True))\n",
    "\n",
    "    axs[2, 0].set_title(\"Shared Activity Contexts\", size=8, fontweight=\"bold\", fontname=\"Times New Roman\")\n",
    "    axs[2, 0].plot(sorted(scaler.fit_transform(np.array([[e] for e  in sas])), reverse=True))\n",
    "\n",
    "    axs[2, 1].set_title(\"Stakeholder Involvement\", size=8, fontweight=\"bold\", fontname=\"Times New Roman\")\n",
    "    axs[2, 1].plot(sorted(scaler.fit_transform(np.array([[e] for e  in sts])), reverse=True))\n",
    "\n",
    "    axs[2, 2].set_title(\"Process Length\", size=8, fontweight=\"bold\", fontname=\"Times New Roman\")\n",
    "    axs[2, 2].plot(sorted(scaler.fit_transform(np.array([[e] for e  in pls])), reverse=True))\n",
    "\n",
    "    #fig.tight_layout()\n",
    "\n",
    "    if (j == 0 )| (j == 2) | (j == 3):\n",
    "        print(\"Figure_\" + str(i) + \".svg\")\n",
    "        fig.savefig(\"Figure_\" + str(i) + \".svg\")\n",
    "        #plt.show()\n",
    "        fig.clf()\n",
    "        fig, axs = plt.subplots(3,3, figsize=(7,5), sharex=True, sharey=True)\n",
    "        i+=1\n",
    "    \n",
    "    j+= 1"
   ]
  },
  {
   "cell_type": "markdown",
   "metadata": {},
   "source": [
    "### Plot Accumulated Scores"
   ]
  },
  {
   "cell_type": "code",
   "execution_count": null,
   "metadata": {},
   "outputs": [],
   "source": [
    "fig, axs = plt.subplots(1,3, figsize=(10,3), sharey=True)\n",
    "\n",
    "sclistnorm = []\n",
    "\n",
    "for score in scorelist:\n",
    "    scorenorm = []\n",
    "    for sc in score:\n",
    "        scorenorm.append([x**2 for x in scaler.fit_transform(np.array([[e] for e  in sc]))])\n",
    "    sclistnorm.append(scorenorm)\n",
    "sns.reset_orig()\n",
    "\n",
    "\n",
    "axs[0].plot((scaler.fit_transform(sorted(np.array(sclistnorm[0]).sum(axis=0), reverse=True))))\n",
    "axs[1].plot((scaler.fit_transform(sorted(np.array(sclistnorm[1]).sum(axis=0), reverse=True))))\n",
    "axs[1].plot((scaler.fit_transform(sorted(np.array(sclistnorm[2]).sum(axis=0), reverse=True))))\n",
    "axs[2].plot((scaler.fit_transform(sorted(np.array(sclistnorm[3]).sum(axis=0), reverse=True))))\n",
    "axs[0].set_title(\"IT Service Management Log\", fontname=\"Times New Roman\")\n",
    "axs[1].set_title(\"Loan Application Log\", fontname=\"Times New Roman\")\n",
    "axs[2].set_title(\"Building Permit Application Log\", fontname=\"Times New Roman\")\n",
    "plt.tight_layout()\n",
    "plt.savefig(\"Figure_11.svg\")"
   ]
  },
  {
   "cell_type": "markdown",
   "metadata": {},
   "source": [
    "### Save Data"
   ]
  },
  {
   "cell_type": "code",
   "execution_count": null,
   "metadata": {},
   "outputs": [],
   "source": [
    "save_obj(scorelist[0], \"loan2014.pkl\")\n",
    "save_obj(scorelist[1], \"loan2012.pkl\")\n",
    "save_obj(scorelist[2], \"bpi2017.pkl\")\n",
    "save_obj(scorelist[3], \"bpi2015.pkl\")"
   ]
  },
  {
   "cell_type": "markdown",
   "metadata": {},
   "source": [
    "# Spider Plots"
   ]
  },
  {
   "cell_type": "code",
   "execution_count": null,
   "metadata": {},
   "outputs": [],
   "source": [
    "scoredfs = []\n",
    "for scores in scorelist:\n",
    "    scorenorm = []\n",
    "    for sc in scores:\n",
    "        scorenorm.append([x**2 for x in scaler.fit_transform(np.array([[e] for e  in sc]))])\n",
    "\n",
    "    d = {\n",
    "        \"EF\":[a[0] for a in list(scaler.fit_transform(np.array([[e] for e  in scores[0]])))],\n",
    "        \"RU\":[a[0] for a in list(scaler.fit_transform(np.array([[e] for e  in scores[1]])))],\n",
    "        \"CC\":[a[0] for a in list(scaler.fit_transform(np.array([[e] for e  in scores[2]])))],\n",
    "        \"AD\":[a[0] for a in list(scaler.fit_transform(np.array([[e] for e  in scores[3]])))],\n",
    "        \"ET\":[a[0] for a in list(scaler.fit_transform(np.array([[e] for e  in scores[4]])))],\n",
    "        \"ER\":[a[0] for a in list(scaler.fit_transform(np.array([[e] for e  in scores[5]])))],\n",
    "        \"SA\":[a[0] for a in list(scaler.fit_transform(np.array([[e] for e  in scores[6]])))],\n",
    "        \"SI\":[a[0] for a in list(scaler.fit_transform(np.array([[e] for e  in scores[7]])))],\n",
    "        \"PL\":[a[0] for a in list(scaler.fit_transform(np.array([[e] for e  in scores[8]])))],\n",
    "        \"total\": [a[0]  for a in list(np.array(scorenorm).sum(axis=0))]\n",
    "    }\n",
    "    scoredfs.append(pd.DataFrame(d).sort_values(\"total\"))\n",
    "\n",
    "scorenames= []\n",
    "\n",
    "scorenames.append(\"Execution Frequency\")\n",
    "scorenames.append(\"Resource Utilization\")\n",
    "scorenames.append(\"Customer Contacts\")\n",
    "scorenames.append(\"Activity Duration Variance\")\n",
    "scorenames.append(\"Execution Time Variance\")\n",
    "scorenames.append(\"Execution Redundancies\")\n",
    "scorenames.append(\"Shared Activity Contexts\")\n",
    "scorenames.append(\"Stakeholder Involvement\")\n",
    "scorenames.append(\"Process Length\")\n",
    "scorenames.append(\"Execution Frequency\")\n",
    "\n",
    "titles = [\"Loan Application Log 2012\", \"Loan Application Log 2017\", \"IT Service Management Log\", \"Building Permit Application Log\"]\n",
    "\n",
    "#breakpoints = [40, 40, 30, 150]\n",
    "\n",
    "angles = [n / float(9) * 2 * pi for n in range(9)]\n",
    "angles += angles[:1]\n",
    "sns.set(style=\"whitegrid\", rc={\"lines.linewidth\": 2})\n",
    "sns.set_style(\"whitegrid\")\n",
    "#plt.style.use(\"ggplot\")\n",
    "f, axs = plt.subplots(2,2, subplot_kw=dict(projection='polar'), figsize=(12,12))\n",
    "\n",
    "i = 0\n",
    "j = 0\n",
    "for d in [scoredfs[1], scoredfs[2], scoredfs[0], scoredfs[3]]:\n",
    "    ratio = []\n",
    "    #print(d.head())\n",
    "    breakpoint = d.shape[0] // 5 * 4\n",
    "    for t in range(9):\n",
    "        c = d.values[:,t]\n",
    "        ratio.append(sum([a for a in c[:breakpoint]]) / sum([a for a in c]))\n",
    "    ratio.append(ratio[0])\n",
    "    axs[i][j%2].set_theta_offset(pi / 2)\n",
    "    axs[i][j%2].set_theta_direction(-1)\n",
    "    axs[i][j%2].set_xticks(angles)\n",
    "    axs[i][j%2].set_xticklabels(scorenames, fontweight=\"bold\", fontname=\"Times New Roman\", fontsize=10.5)\n",
    "    axs[i][j%2].set_rlabel_position(0)\n",
    "    axs[i][j%2].axes.set_ylim(0,1)\n",
    "    axs[i][j%2].set_title(titles[j] + \"\\n\", size=14, fontname=\"Times New Roman\", fontweight=\"bold\")\n",
    "    axs[i][j%2].plot(angles, ratio, linewidth=1, linestyle='solid', color=\"blue\")\n",
    "    axs[i][j%2].fill(angles, ratio, 'b', color=\"blue\", alpha=0.1)\n",
    "    \n",
    "\n",
    "    axs[i][j%2].plot(angles, [1-r for r in ratio], linewidth=1, linestyle='solid', color=\"red\")\n",
    "    axs[i][j%2].fill(angles, [1-r for r in ratio], 'b',color=\"red\", alpha=0.1)\n",
    "    \n",
    "\n",
    "    j += 1\n",
    "\n",
    "    if( j%2 == 0 ):\n",
    "        i +=1\n",
    "\n",
    "plt.tight_layout()\n",
    "plt.savefig(\"Figure 12.svg\")"
   ]
  },
  {
   "cell_type": "markdown",
   "metadata": {},
   "source": [
    "# Plot Example Process Traces for Clusters"
   ]
  },
  {
   "cell_type": "code",
   "execution_count": null,
   "metadata": {},
   "outputs": [],
   "source": [
    "df = dfs[0] # Chose BPI2014 as Example"
   ]
  },
  {
   "cell_type": "code",
   "execution_count": null,
   "metadata": {},
   "outputs": [],
   "source": [
    "df.sort_values([\"case:concept:name\", \"time:timestamp\"])\n",
    "df[\"time:next\"] = df[\"time:timestamp\"].tolist()[1:] + [pd.to_datetime(\"2000-01-01\")]\n",
    "df[\"case:next\"] = df[\"case:concept:name\"].tolist()[1:] + [0]\n",
    "df[\"time\"] =  (pd.to_datetime(df[\"time:next\"], utc=True) - pd.to_datetime(df[\"time:timestamp\"], utc=True)).apply(lambda x: x.total_seconds())\n",
    "\n",
    "labels = fcluster(clusters, nclusters, criterion='maxclust')\n",
    "traces[\"cluster\"] = labels\n",
    "\n",
    "clusterdict = {}\n",
    "for i in range(1,nclusters+1):\n",
    "    clusterdict[i] = traces.loc[traces[\"cluster\"] == i][\"case:concept:name\"].tolist()"
   ]
  },
  {
   "cell_type": "code",
   "execution_count": null,
   "metadata": {},
   "outputs": [],
   "source": [
    "varcount = traces.loc[traces[\"cluster\"] == 10]\n",
    "varcount.columns = [\"asdf\", \"Activity\", \"CaseID\"]\n",
    "varcount = varcount[[\"Activity\", \"CaseID\"]].to_dict()\n",
    "variants = [([\"Start\"] + variant.split(\",\") + [\"End\"] , count) for variant, count in zip(varcount[\"Activity\"].values(), varcount[\"CaseID\"].values())]\n",
    "\n",
    "\n",
    "plotGraphFromVariantsSimple(variants).draw('process10.png')"
   ]
  },
  {
   "cell_type": "code",
   "execution_count": null,
   "metadata": {},
   "outputs": [],
   "source": [
    "varcount = traces.loc[traces[\"cluster\"] == 12]\n",
    "varcount.columns = [\"asdf\", \"Activity\", \"CaseID\"]\n",
    "varcount = varcount[[\"Activity\", \"CaseID\"]].to_dict()\n",
    "variants = [([\"Start\"] + variant.split(\",\") + [\"End\"] , count) for variant, count in zip(varcount[\"Activity\"].values(), varcount[\"CaseID\"].values())]\n",
    "\n",
    "\n",
    "plotGraphFromVariantsSimple(variants).draw('process12.png')"
   ]
  }
 ],
 "metadata": {
  "kernelspec": {
   "display_name": "Python 3",
   "language": "python",
   "name": "python3"
  },
  "language_info": {
   "codemirror_mode": {
    "name": "ipython",
    "version": 3
   },
   "file_extension": ".py",
   "mimetype": "text/x-python",
   "name": "python",
   "nbconvert_exporter": "python",
   "pygments_lexer": "ipython3",
   "version": "3.8.5"
  }
 },
 "nbformat": 4,
 "nbformat_minor": 4
}
